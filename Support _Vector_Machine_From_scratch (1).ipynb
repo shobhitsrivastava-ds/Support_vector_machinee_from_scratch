{
 "cells": [
  {
   "cell_type": "code",
   "execution_count": 1,
   "metadata": {},
   "outputs": [],
   "source": [
    "import matplotlib.pyplot as plt\n",
    "import numpy as np\n",
    "def svm_plot(X,Y):\n",
    "    #weight initilization\n",
    "    W=np.zeros(len(X[0]))\n",
    "    #The learning rate\n",
    "    lr=1\n",
    "    #Defining the number of iter\n",
    "    epochs=10000\n",
    "    #store misclassification to plot the change in cost function with the number of iter\n",
    "    errors=[]\n",
    "    #Traning part-Gradient Descent\n",
    "    for epoch in range(1,epochs):\n",
    "        error=0\n",
    "        for i,x in enumerate(X):\n",
    "            #misclassification\n",
    "            if(Y[i]*np.dot(X[i]*W)) < 1:\n",
    "                #Updating the weight in case of misclassification\n",
    "                W=W + lr *(X[i]*Y[i]) + (-2 * (1/epoch) * W)\n",
    "                error=1\n",
    "            else :\n",
    "                #Updating the weight in case of the incorrect classification\n",
    "                W=W + lr * (-2 * (1/epoch) * W)\n",
    "        errors.append(error)\n",
    "\n",
    "    #plotting the rate of classfication errors during the training for our dataset\n",
    "    plt.plot(errors,)\n"
   ]
  },
  {
   "cell_type": "code",
   "execution_count": null,
   "metadata": {},
   "outputs": [],
   "source": []
  }
 ],
 "metadata": {
  "kernelspec": {
   "display_name": "Python 3",
   "language": "python",
   "name": "python3"
  },
  "language_info": {
   "codemirror_mode": {
    "name": "ipython",
    "version": 3
   },
   "file_extension": ".py",
   "mimetype": "text/x-python",
   "name": "python",
   "nbconvert_exporter": "python",
   "pygments_lexer": "ipython3",
   "version": "3.7.1"
  }
 },
 "nbformat": 4,
 "nbformat_minor": 2
}
